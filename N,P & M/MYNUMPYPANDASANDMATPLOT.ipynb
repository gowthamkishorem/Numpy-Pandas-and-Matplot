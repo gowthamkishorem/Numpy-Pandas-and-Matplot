{
 "cells": [
  {
   "cell_type": "markdown",
   "metadata": {},
   "source": [
    "# Numpy, Pandas and Matplotlib\n"
   ]
  },
  {
   "cell_type": "code",
   "execution_count": 1,
   "metadata": {
    "scrolled": true
   },
   "outputs": [
    {
     "name": "stdout",
     "output_type": "stream",
     "text": [
      "[[1 2 3]\n",
      " [4 5 6]]\n",
      "(2, 3)\n",
      "6\n",
      "<class 'numpy.ndarray'>\n"
     ]
    }
   ],
   "source": [
    "#Numpy is a library consists array objects and routines for array processing\n",
    "#It is an array processing package\n",
    "\n",
    "import numpy as np\n",
    "\n",
    "a = np.array([[1,2,3],[4,5,6]])\n",
    "\n",
    "print(a)\n",
    "print(a.shape) #shape is not a functiom :) it is an 'ndarray' object returns tuple of array dimension\n",
    "print(a.size) #size object gives size of array\n",
    "print(type(a))\n",
    "\n",
    "\n"
   ]
  },
  {
   "cell_type": "code",
   "execution_count": 12,
   "metadata": {},
   "outputs": [
    {
     "name": "stdout",
     "output_type": "stream",
     "text": [
      "[[1 2 3]\n",
      " [4 5 6]] \n",
      " (2, 3)\n",
      "[[1]\n",
      " [2]\n",
      " [3]\n",
      " [4]\n",
      " [5]\n",
      " [6]]\n",
      "[[1 2]\n",
      " [3 4]\n",
      " [5 6]]\n"
     ]
    }
   ],
   "source": [
    "#to reshape\n",
    "\n",
    "import numpy as np\n",
    "\n",
    "a = np.array([[1,2,3],[4,5,6]])\n",
    "print(a,\"\\n\",a.shape)\n",
    "a.shape = (6,1) #imp (rows,columns) rows = horizontal, column = vertical\n",
    "print(a)\n",
    "\n",
    "#or reshape function\n",
    "\n",
    "b = a.reshape(3,2) #==> 3 * 2 = 6 ,6 *1 = 6\n",
    "print(b)"
   ]
  },
  {
   "cell_type": "code",
   "execution_count": 19,
   "metadata": {},
   "outputs": [
    {
     "name": "stdout",
     "output_type": "stream",
     "text": [
      "[[1 2 3 4 5]\n",
      " [6 1 2 3 4]\n",
      " [5 6 1 2 3]\n",
      " [4 5 6 1 2]\n",
      " [3 4 5 6 1]\n",
      " [2 3 4 5 6]]\n"
     ]
    }
   ],
   "source": [
    "#to resize\n",
    "\n",
    "import numpy as np\n",
    "\n",
    "a = np.array([[1,2,3],[4,5,6]])\n",
    "\n",
    "b = np.resize(a,(6,5)) #if dimensions exceed the size the element repeat\n",
    "print(b)"
   ]
  },
  {
   "cell_type": "code",
   "execution_count": 26,
   "metadata": {},
   "outputs": [
    {
     "name": "stdout",
     "output_type": "stream",
     "text": [
      "[[ 1.  3.  5.  7.  9.]\n",
      " [11. 13. 15. 17. 19.]\n",
      " [21. 23. 25. 27. 29.]\n",
      " [31. 33. 35. 37. 39.]\n",
      " [41. 43. 45. 47. 49.]]\n",
      "dimensions of array obect is  2\n"
     ]
    }
   ],
   "source": [
    "#arange function\n",
    "\n",
    "import numpy as np\n",
    "\n",
    "a = np.arange(1,51,2,dtype = np.float)\n",
    "#print(a)\n",
    "\n",
    "# It can be reshaped\n",
    "a.shape = (5,5)\n",
    "\n",
    "print(a)\n",
    "print(\"dimensions of array object is \" ,a.ndim)"
   ]
  },
  {
   "cell_type": "code",
   "execution_count": 8,
   "metadata": {},
   "outputs": [
    {
     "name": "stdout",
     "output_type": "stream",
     "text": [
      "dimensions of array object a is  1\n",
      "reshaped array with dimensions 4\n",
      "[[[[ 0  1  2]\n",
      "   [ 3  4  5]]\n",
      "\n",
      "  [[ 6  7  8]\n",
      "   [ 9 10 11]]]\n",
      "\n",
      "\n",
      " [[[12 13 14]\n",
      "   [15 16 17]]\n",
      "\n",
      "  [[18 19 20]\n",
      "   [21 22 23]]]]\n"
     ]
    }
   ],
   "source": [
    "# ndim object to check dimension\n",
    "import numpy as np \n",
    "a = np.arange(24) \n",
    "print(\"dimensions of array object a is \" ,a.ndim)\n",
    "\n",
    "b = a.reshape(2,2,2,3)\n",
    "#THIS IS IMPORTANT\n",
    "#In Matrix terms no of elements always equal to product of no of rows and columns\n",
    "print(\"reshaped array with dimensions\",b.ndim)\n",
    "print(b)"
   ]
  },
  {
   "cell_type": "code",
   "execution_count": 37,
   "metadata": {},
   "outputs": [
    {
     "name": "stdout",
     "output_type": "stream",
     "text": [
      "8\n",
      "4\n"
     ]
    }
   ],
   "source": [
    "#numpy.itemsize: returns length of element in bytes\n",
    "import numpy as np \n",
    "\n",
    "x = np.array([1,2,3,4,5],dtype = np.int64) \n",
    "print(x.itemsize)\n",
    "\n",
    "y = np.array([1,2,3,4,5],dtype = np.int32) \n",
    "print(y.itemsize)\n",
    "\n",
    "#int8 = 1 byte i.e, int64 = 8 bytes"
   ]
  },
  {
   "cell_type": "code",
   "execution_count": 4,
   "metadata": {},
   "outputs": [
    {
     "name": "stdout",
     "output_type": "stream",
     "text": [
      "[[37498736        0        0        0]\n",
      " [       0        0        0        0]\n",
      " [       0        0        0        0]]\n"
     ]
    }
   ],
   "source": [
    "#numpy.empty => creates an uninitialized array with specified shape and dtype\n",
    "#format -> numpy.empty([shape],dtype=)\n",
    "import numpy as np\n",
    "\n",
    "a = np.empty([3,4], dtype = np.int64)\n",
    "print(a)"
   ]
  },
  {
   "cell_type": "code",
   "execution_count": 1,
   "metadata": {},
   "outputs": [
    {
     "name": "stdout",
     "output_type": "stream",
     "text": [
      "[[0 0 0 0 0]\n",
      " [0 0 0 0 0]\n",
      " [0 0 0 0 0]\n",
      " [0 0 0 0 0]\n",
      " [0 0 0 0 0]]\n"
     ]
    }
   ],
   "source": [
    "#numpy.zeros\n",
    "\n",
    "import numpy as np\n",
    "\n",
    "a = np.zeros([5,5],dtype = np.int64)\n",
    "\n",
    "print(a)"
   ]
  },
  {
   "cell_type": "code",
   "execution_count": 2,
   "metadata": {},
   "outputs": [
    {
     "name": "stdout",
     "output_type": "stream",
     "text": [
      "[[1. 1. 1. 1.]\n",
      " [1. 1. 1. 1.]\n",
      " [1. 1. 1. 1.]]\n"
     ]
    }
   ],
   "source": [
    "#numpy.ones\n",
    "\n",
    "import numpy as np\n",
    "\n",
    "o = np.ones([3,4],dtype=np.float)\n",
    "\n",
    "print(o)"
   ]
  },
  {
   "cell_type": "code",
   "execution_count": 7,
   "metadata": {},
   "outputs": [
    {
     "name": "stdout",
     "output_type": "stream",
     "text": [
      "[1 2 3]\n",
      "<class 'numpy.ndarray'>\n",
      "<class 'list'>\n"
     ]
    }
   ],
   "source": [
    "#asarray\n",
    "\n",
    "import numpy as np \n",
    "x = [1,2,3] \n",
    "a = np.asarray(x)\n",
    "b=list(a) # from array to list \n",
    "print (a)\n",
    "print(type(a))\n",
    "print(type(b))"
   ]
  },
  {
   "cell_type": "code",
   "execution_count": 9,
   "metadata": {},
   "outputs": [
    {
     "name": "stdout",
     "output_type": "stream",
     "text": [
      "[10 12 15 17 20]\n"
     ]
    }
   ],
   "source": [
    "#**linspace = similar to arange and it outputs the evenly spaced values between the interval\n",
    "\n",
    "import numpy as np \n",
    "x = np.linspace(10,20,5,dtype = np.int64) \n",
    "print (x)"
   ]
  },
  {
   "cell_type": "markdown",
   "metadata": {},
   "source": [
    "# Arithmetic Operations\n"
   ]
  },
  {
   "cell_type": "code",
   "execution_count": 12,
   "metadata": {},
   "outputs": [
    {
     "name": "stdout",
     "output_type": "stream",
     "text": [
      "9\n",
      "[3 6]\n",
      "[1 8]\n"
     ]
    }
   ],
   "source": [
    "#np.sum\n",
    "\n",
    "import numpy as np\n",
    "\n",
    "a = np.array([[0,1],[3,5]])\n",
    "print(np.sum(a))\n",
    "print(np.sum(a,axis = 0))#for  column 0\n",
    "print(np.sum(a,axis = 1))"
   ]
  },
  {
   "cell_type": "markdown",
   "metadata": {},
   "source": [
    "# Matrix operations"
   ]
  },
  {
   "cell_type": "code",
   "execution_count": 16,
   "metadata": {},
   "outputs": [
    {
     "name": "stdout",
     "output_type": "stream",
     "text": [
      "[[4 6 8]\n",
      " [3 6 6]]\n",
      "[[-4 -4 -4]\n",
      " [ 1  0  2]]\n",
      "[[ 0  5 12]\n",
      " [ 2  9  8]]\n",
      "[[0.         0.2        0.33333333]\n",
      " [2.         1.         2.        ]]\n"
     ]
    }
   ],
   "source": [
    "\n",
    "import numpy as np\n",
    "\n",
    "a=np.array([[0,1,2],[2,3,4]])\n",
    "b=np.array([[4,5,6],[1,3,2]])\n",
    "print(np.add(a,b))\n",
    "print(np.subtract(a,b))\n",
    "print(np.multiply(a,b))\n",
    "print(np.divide(a,b))\n",
    "#print(np.dot(a,b))"
   ]
  },
  {
   "cell_type": "markdown",
   "metadata": {},
   "source": [
    "# Statistical Functions"
   ]
  },
  {
   "cell_type": "code",
   "execution_count": 17,
   "metadata": {},
   "outputs": [
    {
     "name": "stdout",
     "output_type": "stream",
     "text": [
      "[3 3 2]\n",
      "[2 4 3]\n",
      "[7 8 9]\n",
      "[8 7 9]\n"
     ]
    }
   ],
   "source": [
    "#min and max functions along row and columns\n",
    "import numpy as np \n",
    "a = np.array([[3,7,5],[8,4,3],[2,4,9]]) \n",
    "print(np.amin(a,axis=1))#  0 for column 1 for row\n",
    "print(np.amin(a,axis=0))\n",
    "print(np.amax(a,axis=1))\n",
    "print(np.amax(a,axis=0))\n"
   ]
  },
  {
   "cell_type": "code",
   "execution_count": 18,
   "metadata": {},
   "outputs": [
    {
     "name": "stdout",
     "output_type": "stream",
     "text": [
      "7\n",
      "[4 5 7]\n",
      "[6 3 6]\n"
     ]
    }
   ],
   "source": [
    "#numpy.ptp() function returns the range (maximum-minimum) of values along an axis.\n",
    "\n",
    "import numpy as np \n",
    "a = np.array([[3,7,5],[8,4,3],[2,4,9]]) \n",
    "print(np.ptp(a))\n",
    "print(np.ptp(a,axis=1))\n",
    "print(np.ptp(a,axis=0))\n"
   ]
  },
  {
   "cell_type": "code",
   "execution_count": 2,
   "metadata": {},
   "outputs": [
    {
     "name": "stdout",
     "output_type": "stream",
     "text": [
      "65.0\n",
      "[50. 90. 60.]\n",
      "[65. 80. 60.]\n"
     ]
    }
   ],
   "source": [
    "#mumpy.median == it is a value separating from higher half of a data sample from the lower half\n",
    "\n",
    "import numpy as np\n",
    "\n",
    "a = np.array([[30,65,70],[80,95,10],[50,90,60]])\n",
    "\n",
    "print(np.median(a))\n",
    "print(np.median(a, axis=0))\n",
    "print(np.median(a,axis=1))"
   ]
  },
  {
   "cell_type": "code",
   "execution_count": 3,
   "metadata": {},
   "outputs": [
    {
     "name": "stdout",
     "output_type": "stream",
     "text": [
      "3.6666666666666665\n",
      "[2.66666667 3.66666667 4.66666667]\n",
      "[2. 4. 5.]\n"
     ]
    }
   ],
   "source": [
    "#numpy.mean() function returns the arithmetic mean of elements in the array. \n",
    "\n",
    "import numpy as np \n",
    "\n",
    "a = np.array([[1,2,3],[3,4,5],[4,5,6]]) \n",
    "print(np.mean(a))\n",
    "print(np.mean(a,axis=0))\n",
    "print(np.mean(a,axis=1))"
   ]
  },
  {
   "cell_type": "code",
   "execution_count": 5,
   "metadata": {},
   "outputs": [
    {
     "name": "stdout",
     "output_type": "stream",
     "text": [
      "2.5\n",
      "2.5\n",
      "2.0\n"
     ]
    }
   ],
   "source": [
    "#numpy.average() function computes the weighted average of elements in an array\n",
    "\n",
    "#***Remember how to calculate weighted avg == weighted average is calculated by \n",
    "#adding the product of the corresponding elements and dividing the sum by the sum of weights\n",
    "\n",
    "import numpy as np \n",
    "a = np.array([1,2,3,4]) \n",
    "print(np.average(a))\n",
    "print(np.mean(a))\n",
    "\n",
    "wts = np.array([4,3,2,1]) \n",
    "print(np.average(a,weights=wts))\n"
   ]
  },
  {
   "cell_type": "code",
   "execution_count": 6,
   "metadata": {},
   "outputs": [
    {
     "name": "stdout",
     "output_type": "stream",
     "text": [
      "1.118033988749895\n"
     ]
    }
   ],
   "source": [
    "#numpy.std == Standard deviation is the square root of the average of squared deviations from mean.\n",
    "#formula == std = sqrt(mean(abs(x - x.mean())**2))\n",
    "\n",
    "import numpy as np \n",
    "print (np.std([1,2,3,4])) \n"
   ]
  },
  {
   "cell_type": "code",
   "execution_count": 8,
   "metadata": {},
   "outputs": [
    {
     "name": "stdout",
     "output_type": "stream",
     "text": [
      "3.25\n"
     ]
    }
   ],
   "source": [
    "## IMPORTANT\n",
    "\n",
    "##numpy.var() == Variance is the average of squared deviations, i.e., mean(abs(x - x.mean())**2)\n",
    "##* the standard deviation is the square root of variance.\n",
    "\n",
    "import numpy\n",
    "print(numpy.var([1,3,4,6]))"
   ]
  },
  {
   "cell_type": "code",
   "execution_count": 10,
   "metadata": {},
   "outputs": [],
   "source": [
    "#broadcasting = broadcasting refers to the ability of NumPy to \n",
    "#treat arrays of different shapes during arithmetic operations\n",
    " \n",
    " \n",
    " \n"
   ]
  },
  {
   "cell_type": "markdown",
   "metadata": {},
   "source": [
    "# Pandas #\n",
    "\n",
    "#pandas = Python library providing high-performance, easy-to-use data structures and \n",
    "#data analysis tools for the Python programming language\n",
    "\n",
    "#merging and joining of data."
   ]
  },
  {
   "cell_type": "markdown",
   "metadata": {},
   "source": [
    "# Pandas - Series\n",
    "\n",
    "Series is a one-dimensional labeled array capable of holding data of any type (integer, string, float, python objects, etc.). The axis labels are collectively called index.\n",
    "\n",
    "\n",
    "Series( data, index, dtype, copy)"
   ]
  },
  {
   "cell_type": "code",
   "execution_count": 2,
   "metadata": {},
   "outputs": [
    {
     "name": "stdout",
     "output_type": "stream",
     "text": [
      "0    a\n",
      "1    b\n",
      "2    c\n",
      "3    d\n",
      "dtype: object\n",
      "100    a\n",
      "101    b\n",
      "102    c\n",
      "103    d\n",
      "dtype: object\n"
     ]
    }
   ],
   "source": [
    "import pandas as pd \n",
    "import numpy as np \n",
    "data = np.array(['a','b','c','d']) \n",
    "s=pd.Series(data)\n",
    "print( s)\n",
    "s = pd.Series(data,index=[100,101,102,103]) #these numbers are axis labels\n",
    "print( s) "
   ]
  },
  {
   "cell_type": "code",
   "execution_count": 1,
   "metadata": {
    "scrolled": true
   },
   "outputs": [
    {
     "name": "stdout",
     "output_type": "stream",
     "text": [
      "a    0\n",
      "b    1\n",
      "c    2\n",
      "dtype: int64\n",
      "b    1.0\n",
      "c    2.0\n",
      "d    NaN\n",
      "a    0.0\n",
      "e    NaN\n",
      "dtype: float64\n"
     ]
    }
   ],
   "source": [
    "#Series from dict\n",
    "#Note the dtype **\n",
    "import pandas as pd  \n",
    "data = {'a':0,'b':1,'c':2}\n",
    "s = pd.Series(data) \n",
    "print( s)\n",
    "\n",
    "data = {'a':0,'b':1,'c':2,'f':3}\n",
    "s = pd.Series(data,index=['b','c','d','a','e'])\t\n",
    "print( s)"
   ]
  },
  {
   "cell_type": "code",
   "execution_count": 7,
   "metadata": {},
   "outputs": [
    {
     "name": "stdout",
     "output_type": "stream",
     "text": [
      "1\n",
      "a    1\n",
      "b    2\n",
      "c    3\n",
      "dtype: int64\n",
      "c    3\n",
      "d    4\n",
      "dtype: int64\n",
      "3\n"
     ]
    }
   ],
   "source": [
    "#Accessing data from series\n",
    "\n",
    "import pandas as pd\n",
    "s=pd.Series([1,2,3,4],index=['a','b', 'c', 'd'])\n",
    "print(s[0]) \t\t\t#print using position\n",
    "print(s[:3])\n",
    "print(s[2:4])\n",
    "print(s['c'])\t\t\t#print using label\n"
   ]
  },
  {
   "cell_type": "markdown",
   "metadata": {},
   "source": [
    "# Pandas - DataFrames\n",
    "\n",
    "A Data frame is a two-dimensional data structure, i.e., data is aligned in a tabular fashion in rows and columns.\n"
   ]
  },
  {
   "cell_type": "code",
   "execution_count": 17,
   "metadata": {
    "scrolled": false
   },
   "outputs": [
    {
     "name": "stdout",
     "output_type": "stream",
     "text": [
      "   0\n",
      "0  1\n",
      "1  2\n",
      "2  3\n",
      "3  4\n",
      "4  5\n",
      "     Name  Age\n",
      "0    Alex   10\n",
      "1     Bob   12\n",
      "2  Clarke   13\n",
      "     Name  Age\n",
      "a    Alex   10\n",
      "b     Bob   12\n",
      "c  Clarke   13\n"
     ]
    }
   ],
   "source": [
    "#dataframe from list\n",
    "\n",
    "import pandas as pd\n",
    "data=[1,2,3,4,5]\n",
    "d1=pd.DataFrame(data)\n",
    "print(d1)\n",
    "\n",
    "import pandas as pd \n",
    "data = [['Alex',10],['Bob',12],['Clarke',13]] \n",
    "df = pd.DataFrame(data,columns=['Name','Age']) \n",
    "print (df)\n",
    "\n",
    "data2 = [['Alex',10],['Bob',12],['Clarke',13]] \n",
    "df1 = pd.DataFrame(data2,index=['a','b','c'], columns=['Name','Age']) \n",
    "print (df1)\n"
   ]
  },
  {
   "cell_type": "code",
   "execution_count": 20,
   "metadata": {},
   "outputs": [
    {
     "name": "stdout",
     "output_type": "stream",
     "text": [
      "          Name  Age\n",
      "Student1  John   23\n",
      "Student2   Tom   33\n",
      "Student3  Mary   25\n"
     ]
    }
   ],
   "source": [
    "#from dict of lists\n",
    "\n",
    "import pandas as pd\n",
    "data={'Name': ['John', 'Tom', 'Mary'], 'Age': [23,33,25]}\n",
    "d1=pd.DataFrame(data,index=['Student1', 'Student2', 'Student3'])\n",
    "print(d1)"
   ]
  },
  {
   "cell_type": "code",
   "execution_count": 23,
   "metadata": {},
   "outputs": [
    {
     "name": "stdout",
     "output_type": "stream",
     "text": [
      "   a   b    c\n",
      "0  1   2  NaN\n",
      "1  5  10  4.0\n"
     ]
    }
   ],
   "source": [
    "#from list of dict\n",
    "\n",
    "\n",
    "import pandas as pd\n",
    "data=[{'a': 1, 'b': 2}, {'a': 5, 'b': 10, 'c':4}]\n",
    "d1=pd.DataFrame(data)\n",
    "print(d1)"
   ]
  },
  {
   "cell_type": "code",
   "execution_count": 11,
   "metadata": {},
   "outputs": [
    {
     "name": "stdout",
     "output_type": "stream",
     "text": [
      "   one  two\n",
      "a  1.0  1.0\n",
      "b  2.0  NaN\n",
      "c  3.0  3.0\n",
      "d  4.0  NaN\n",
      "g  NaN  2.0\n",
      "column selection\n",
      " a    1\n",
      "g    2\n",
      "c    3\n",
      "dtype: int64\n",
      "column selection of DF\n",
      " a    1\n",
      "b    2\n",
      "c    3\n",
      "d    4\n",
      "dtype: int64\n"
     ]
    }
   ],
   "source": [
    "#from dict of series\n",
    "\n",
    "import pandas as pd\n",
    "\n",
    "d = { \"one\" : pd.Series([1,2,3,4],index=['a','b','c','d']), \"two\" : pd.Series([1,2,3],index = ['a','g','c'])}\n",
    "df = pd.DataFrame(d)\n",
    "print(df)\n",
    "\n",
    "#column selection\n",
    "\n",
    "print(\"column selection\\n\",d['two'])\n",
    "print(\"column selection of DF\\n\",d['one'])"
   ]
  },
  {
   "cell_type": "code",
   "execution_count": 13,
   "metadata": {},
   "outputs": [
    {
     "name": "stdout",
     "output_type": "stream",
     "text": [
      "Adding a new column by passing as Series:\n",
      "   one  two  three\n",
      "a  1.0    1   10.0\n",
      "b  2.0    2   20.0\n",
      "c  3.0    3   30.0\n",
      "d  NaN    4    NaN\n",
      "Adding a new column using the existing columns in DataFrame:\n",
      "   one  two  three  four\n",
      "a  1.0    1   10.0  11.0\n",
      "b  2.0    2   20.0  22.0\n",
      "c  3.0    3   30.0  33.0\n",
      "d  NaN    4    NaN   NaN\n"
     ]
    }
   ],
   "source": [
    "#Column Addition\n",
    "\n",
    "import pandas as pd \n",
    "d = {'one' : pd.Series([1, 2, 3], index=['a', 'b', 'c']), 'two' : pd.Series([1, 2, 3, 4], index=['a', 'b', 'c', 'd'])} \n",
    "df = pd.DataFrame(d)\n",
    "\n",
    "# Adding a new column to an existing DataFrame object with column label by passing new series \n",
    "print(\"Adding a new column by passing as Series:\") \n",
    "\n",
    "df['three']=pd.Series([10,20,30],index=['a','b','c']) \n",
    "print(df)\n",
    " \n",
    "print(\"Adding a new column using the existing columns in DataFrame:\") \n",
    "df['four']=df['one']+df['three'] \n",
    "\n",
    "print (df)"
   ]
  },
  {
   "cell_type": "code",
   "execution_count": 16,
   "metadata": {},
   "outputs": [
    {
     "name": "stdout",
     "output_type": "stream",
     "text": [
      "Our dataframe is:\n",
      "   one  two  three\n",
      "a  1.0    1   10.0\n",
      "b  2.0    2   20.0\n",
      "c  3.0    3   30.0\n",
      "d  NaN    4    NaN\n",
      "Deleting the first column using DEL function:\n",
      "   two  three\n",
      "a    1   10.0\n",
      "b    2   20.0\n",
      "c    3   30.0\n",
      "d    4    NaN\n",
      "Deleting another column using POP function:\n",
      "   three\n",
      "a   10.0\n",
      "b   20.0\n",
      "c   30.0\n",
      "d    NaN\n"
     ]
    }
   ],
   "source": [
    "import pandas as pd \n",
    "dn = {'one' : pd.Series([1, 2, 3], index=['a', 'b', 'c']), 'two' : pd.Series([1, 2, 3, 4], index=['a', 'b', 'c', 'd']), 'three' : pd.Series([10,20,30], index=['a','b','c'])} \n",
    "dfn = pd.DataFrame(dn) \n",
    "print(\"Our dataframe is:\") \n",
    "print(dfn)\n",
    "\n",
    " # using del function \n",
    "print (\"Deleting the first column using DEL function:\") \n",
    "del dfn['one'] \n",
    "print(dfn)\n",
    "\n",
    "# using pop function \n",
    "print(\"Deleting another column using POP function:\")\n",
    "dfn.pop('two') \n",
    "print(dfn)"
   ]
  },
  {
   "cell_type": "code",
   "execution_count": 19,
   "metadata": {},
   "outputs": [
    {
     "name": "stdout",
     "output_type": "stream",
     "text": [
      "   one  two\n",
      "a  1.0    1\n",
      "b  2.0    2\n",
      "c  3.0    3\n",
      "d  NaN    4 \n",
      "\n",
      "one    2.0\n",
      "two    2.0\n",
      "Name: b, dtype: float64\n"
     ]
    }
   ],
   "source": [
    "#Row Selection\n",
    "\n",
    "#Rows can be selected by passing row label to a loc function. \n",
    "#Program\n",
    "import pandas as pd \n",
    "d = {'one' : pd.Series([1, 2, 3], index=['a', 'b', 'c']), 'two' : pd.Series([1, 2, 3, 4], index=['a', 'b', 'c', 'd'])} \n",
    "df = pd.DataFrame(d) \n",
    "print(df,\"\\n\")\n",
    "print( df.loc['b'])"
   ]
  },
  {
   "cell_type": "code",
   "execution_count": 21,
   "metadata": {},
   "outputs": [
    {
     "name": "stdout",
     "output_type": "stream",
     "text": [
      "one    3.0\n",
      "two    3.0\n",
      "Name: c, dtype: float64\n",
      "   one  two\n",
      "c  3.0    3\n",
      "d  NaN    4\n"
     ]
    }
   ],
   "source": [
    "#Rows can be selected by passing integer location to an iloc function.\n",
    "#Program\n",
    "\n",
    "import pandas as pd \n",
    "d = {'one' : pd.Series([1, 2, 3], index=['a', 'b', 'c']), 'two' : pd.Series([1, 2, 3, 4], index=['a', 'b', 'c', 'd'])} \n",
    "df = pd.DataFrame(d) \n",
    "print( df.iloc[2])\n",
    "\n",
    "#slice rows\n",
    "print(df[2:4])"
   ]
  },
  {
   "cell_type": "code",
   "execution_count": 25,
   "metadata": {},
   "outputs": [
    {
     "name": "stdout",
     "output_type": "stream",
     "text": [
      "   a  b\n",
      "x  1  2\n",
      "z  3  4\n",
      "y  5  6\n",
      "s  7  8\n"
     ]
    }
   ],
   "source": [
    "#Add new rows to a DataFrame using the append function. \n",
    "#Program\n",
    "import pandas as pd \n",
    "df1 = pd.DataFrame([[1, 2], [3, 4]], columns = ['a','b'],index = ['x','z']) \n",
    "df2 = pd.DataFrame([[5, 6], [7, 8]], columns = ['a','b'],index = ['y' , 's']) \n",
    "df1 = df1.append(df2) \n",
    "print (df)"
   ]
  },
  {
   "cell_type": "markdown",
   "metadata": {},
   "source": [
    "# Matplotlib continued in another ipynb file ; Stay Safe , Stay Corona :)"
   ]
  }
 ],
 "metadata": {
  "kernelspec": {
   "display_name": "Python 3.8.2 64-bit",
   "language": "python",
   "name": "python38264bit1526796694874b31b084f43f831eb56c"
  },
  "language_info": {
   "codemirror_mode": {
    "name": "ipython",
    "version": 3
   },
   "file_extension": ".py",
   "mimetype": "text/x-python",
   "name": "python",
   "nbconvert_exporter": "python",
   "pygments_lexer": "ipython3",
   "version": "3.8.5"
  }
 },
 "nbformat": 4,
 "nbformat_minor": 4
}
